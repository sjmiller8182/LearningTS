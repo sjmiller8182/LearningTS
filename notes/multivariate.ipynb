{
 "cells": [
  {
   "cell_type": "markdown",
   "metadata": {},
   "source": [
    "# **Multivariate Time Series**\n",
    "\n",
    "---------------\n",
    "\n",
    "Two of the common types of multivariate models are multiple regression with correlated errors and vector autoregression,\n",
    "which use exogeneous variables to help predict the response variable.\n",
    "In addition to using multiple variables at the same time $t$ as the response, \n",
    "lagged variables may be useful for predicting the response.\n",
    "\n",
    "## **Lagged Variables**\n",
    "\n",
    "---------------\n",
    "\n",
    "Lag effect - the value of a variable at a previous time is correlated with the repsonse at the current time.\n",
    "`dplyr::lag` can be used to lag variables in R.\n",
    "\n",
    "The cross-correlation between two variables at multiple lags may be useful in assessing if lags of a variable would be useful in the model.\n",
    "The cross-correlation between variables $X_{t1}$ and $X_{t2}$ at lag k is the correlation between $X_{t,1}$ and $X_{t-k,2}$.\n",
    "In R, the function `ccf` will calculate the cross-correlation between two variables for a given range of lags.\n",
    "\n",
    "## **Multiple Linear Regression Models**\n",
    "\n",
    "---------------\n",
    "\n",
    "### **Notation**\n",
    "\n",
    "---------------\n",
    "\n",
    "* General Form\n",
    "\n",
    "$$\n",
    "y_t =  \\beta_0 + \\beta_1 X_{t1} + \\beta_2 X_{t2} + ... + \\beta_m X_{tm} + Z_t\n",
    "$$\n",
    "\n",
    "Where $Z_t$ may satisfy an AR(p) process.\n",
    "\n",
    "* Each realization is of length $n$.\n",
    "\n",
    "$$\n",
    "Y_t = y_1, y_2, ..., y_n\n",
    "$$\n",
    "$$\n",
    "Z_t = z_1, z_2, ..., z_n\n",
    "$$\n",
    "\n",
    "* The $m$ independant variables are referred to by $X_{tm}$ as should below.\n",
    "\n",
    "$$\n",
    "X_{t1} = x_{11}, x_{21}, x_{31}, ..., x_{n1}\n",
    "$$\n",
    "$$\n",
    "X_{t2} = x_{12}, x_{22}, x_{32}, ..., x_{n2}\n",
    "$$\n",
    "\n",
    "\n",
    "## **Vector Autoregressive (VAR) Models**\n",
    "\n",
    "---------------\n",
    "\n",
    "VAR models use an autoregressive approach to model the correlation between multiple time series.\n",
    "The computation by hand is significant.\n",
    "\n",
    "In R, use `VARselect` and `VAR` from `vars`.\n"
   ]
  },
  {
   "cell_type": "markdown",
   "metadata": {},
   "source": [
    "# **References**\n",
    "\n",
    "----------------\n",
    "\n",
    "* \\[1\\] W. Woodward and B. Salder, \"Multivariate Time Series\", SMU, 2019"
   ]
  }
 ],
 "metadata": {
  "kernelspec": {
   "display_name": "Python 3",
   "language": "python",
   "name": "python3"
  },
  "language_info": {
   "codemirror_mode": {
    "name": "ipython",
    "version": 3
   },
   "file_extension": ".py",
   "mimetype": "text/x-python",
   "name": "python",
   "nbconvert_exporter": "python",
   "pygments_lexer": "ipython3",
   "version": "3.6.9"
  }
 },
 "nbformat": 4,
 "nbformat_minor": 2
}
