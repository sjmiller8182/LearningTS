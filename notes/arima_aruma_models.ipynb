{
 "cells": [
  {
   "cell_type": "markdown",
   "metadata": {},
   "source": [
    "# **Non-Stationary Models**\n",
    "\n",
    "----------------\n",
    "\n",
    "This file will cover two non-stationary models\n",
    "\n",
    "* Autoregressive integrated moving average (ARIMA) models\n",
    "* ARUMA \n",
    "\n",
    "Essentially, ARIMA are ARMA models extended to have roots on the unit circle.\n",
    "Technically, ARIMA models are a special case of ARUMA model.\n",
    "In this class, we will focus on the using ARUMA to model seasonality."
   ]
  },
  {
   "cell_type": "markdown",
   "metadata": {},
   "source": [
    "## **ARIMA(p,d,q)**\n",
    "\n",
    "----------------\n",
    "\n",
    "An ARIMA model is described by the equation\n",
    "\n",
    "$$\n",
    "\\phi \\left( B \\right) \\left( 1 - B \\right)^d X_t = \\theta \\left( B \\right) a_t\n",
    "$$\n",
    "\n",
    "where \n",
    "\n",
    "* All the roots of $\\phi \\left( B \\right)$ and $\\theta \\left( B \\right)$ are outside the unit circle\n",
    "* $d$ is a non-negative integer\n",
    "* Differences of $\\left( 1 - B \\right)^d X_t$ satisfy a stationary model (ARMA)\n",
    "\n",
    "The $\\left( 1 - B \\right)^d$ factor of the equation makes the model non-stationary\n",
    "\n",
    "### **Properties of ARIMA**\n",
    "\n",
    "* The roots on the unit circle dominate the behavior of the realization\n",
    "* The autocorrelations are defined to have a magnitude of 1 $\\left( \\rho_k = 1 \\right)$\n",
    "  * These are sometimes refered to as \"extended autocorrelations\" and denoted with $\\rho^*_k$\n",
    "* The variance of ARIMA is not well defined.\n",
    "  * The root on the unit circle causes the variance to be infinite.\n",
    "\n",
    "### **ARIMA(0,1,0)**\n",
    "\n",
    "Let $Y_t$ be defined as\n",
    "\n",
    "$$\n",
    "Y_t = (1-B) X_t\n",
    "$$\n",
    "\n",
    "Then\n",
    "\n",
    "$$Y_t = a_t$$\n",
    "\n",
    "Thus,\n",
    "\n",
    "$$\n",
    "X_t = X_{t-1} + a_t\n",
    "$$\n",
    "\n",
    "**Observations from ARIMA(0,1,0)**\n",
    "\n",
    "* The value at time $t$ is equal to the value at time $t-1$ plus random noise.\n",
    "* At each time $t$, the process is equally likely to move up or down i.e. a random walk.\n",
    "\n",
    "### **Additional Comments**\n",
    "\n",
    "Sample autocorrelations that are slowly descreasing in magnitude are a sign that an ARIMA model is appropriate."
   ]
  },
  {
   "cell_type": "markdown",
   "metadata": {},
   "source": [
    "## **ARUMA(p,d,q)**\n",
    "\n",
    "----------------\n",
    "\n",
    "An ARUMA model is described by the equation\n",
    "\n",
    "$$\n",
    "\\phi \\left( B \\right) \\left( 1 - B \\right)^d \\left( 1- B^s \\right) X_t = \\theta \\left( B \\right) a_t\n",
    "$$\n",
    "\n",
    "where \n",
    "\n",
    "* All the conditions from ARIMA are met\n",
    "* $s$ is a non-negative integer\n",
    "\n",
    "ARUMA is an generalization of ARIMA that includes a term or term(s) for seasonality.\n",
    "\n",
    "### **Seasonality**\n",
    "\n",
    "Some examples of seasonality are quarterly and monthly.\n",
    "The factors for quarterly seasonality is shown.\n",
    "Notice that these factors have roots on the unit circle, making them non-stationary components.\n",
    "\n",
    "$$\n",
    "\\left( 1 - B^4 \\right) = (1-B) (1+ B) \\left( 1 + B^2 \\right)\n",
    "$$\n",
    "\n",
    "### **Extensions**\n",
    "\n",
    "ARUMA really is a more general model than the combination of ARIMA with seasonality.\n",
    "It includes any model with additional non-stationary factors that do not form seasonal or integrated forms."
   ]
  },
  {
   "cell_type": "markdown",
   "metadata": {},
   "source": [
    "## **Notation**\n",
    "\n",
    "----------------\n",
    "\n",
    "The orders of autoregressive, integration, and moving average are denoted with p, d, and q respectively.\n",
    "So an ARIMA model is described with ARIMA(p,d,q).\n",
    "There is no generalization for seasonality or other non-stationary factors.\n",
    "So the factor orders of ARUMA are denoted in the same way as ARIMA."
   ]
  },
  {
   "cell_type": "markdown",
   "metadata": {},
   "source": [
    "## **References**\n",
    "\n",
    "----------------\n",
    "\n",
    "* \\[1\\] B. Salder, \"ARIMA Models and Seasonality\", SMU, 2019"
   ]
  }
 ],
 "metadata": {
  "kernelspec": {
   "display_name": "Python 3",
   "language": "python",
   "name": "python3"
  },
  "language_info": {
   "codemirror_mode": {
    "name": "ipython",
    "version": 3
   },
   "file_extension": ".py",
   "mimetype": "text/x-python",
   "name": "python",
   "nbconvert_exporter": "python",
   "pygments_lexer": "ipython3",
   "version": "3.6.9"
  }
 },
 "nbformat": 4,
 "nbformat_minor": 2
}
