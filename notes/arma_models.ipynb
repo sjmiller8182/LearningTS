{
 "cells": [
  {
   "cell_type": "markdown",
   "metadata": {},
   "source": [
    "# **Autoregressive Moving Average (ARMA) Models**\n",
    "\n",
    "----------------\n",
    "\n",
    "ARMA models are an extention of [AR](./autoregressive_models.ipynb) and\n",
    "[MA](./moving_average_models.ipynb) by combination.\n",
    "ARMA is described as follows\n",
    "\n",
    "$$\n",
    "X_t - \\phi_1 X_{t-1} - ... - \\phi_p X_{t-p} =\n",
    "\\beta + a_t - \\theta_1 a_{t-1} - ... - \\theta_q a_{t-a}\n",
    "$$\n",
    "\n",
    "where\n",
    "\n",
    "* $\\beta = \\left( 1 - \\phi_1 - ... - \\phi_p \\right) \\mu $\n",
    "* $a_t$ is white noise\n",
    "\n",
    "and is constained with\n",
    "\n",
    "* $\\phi_i$ and $\\theta_j$ are real valued constants\n",
    "* $\\phi_i \\neq 0$ and $\\theta_j \\neq 0$\n",
    "* $\\phi (z)$ and $\\theta (z)$ have no common factors\n",
    "\n",
    "The operator for is \n",
    "\n",
    "$$\n",
    "\\left( 1 - \\phi_1 B - ... - \\phi_p B^p \\right) X_t =\n",
    "\\left( 1 - \\theta_1 B - ... - \\theta_q B^q \\right)\n",
    "$$\n",
    "\n",
    "And can generally be expressed as\n",
    "\n",
    "$$\n",
    "\\phi \\left( B \\right) X_t = \n",
    "\\theta \\left( B \\right)\n",
    "$$\n",
    "\n",
    "An ARMA model is **valid** if and only if model is stationary and invertable i.e.\n",
    "\n",
    "1. All the roots of $\\phi \\left( z \\right)$ are outside the unit circle\n",
    "2. All the roots of $\\theta \\left( z \\right)$ are outside the unit circle"
   ]
  },
  {
   "cell_type": "markdown",
   "metadata": {},
   "source": [
    "## **Notation**\n",
    "\n",
    "----------------\n",
    "\n",
    "Since ARMA is a combination of two models (AR and MA),\n",
    "the separate indexes are used to indicate the order of each model.\n",
    "Typically, $p$ refers to the AR order and $q$ refers to the MA order i.e. ARMA(p,q).\n",
    "Additionally, the order of the models are indexed with $i$ and $j$ in formulas, respectively.\n",
    "\n",
    "* An MA(q) model is an ARMA(0, q) model\n",
    "* An AR(p) model is an ARMA(p, 0) model"
   ]
  },
  {
   "cell_type": "markdown",
   "metadata": {},
   "source": [
    "## **References**\n",
    "\n",
    "----------------\n",
    "\n",
    "* \\[1\\] B. Salder, \"Moving Average (MA(q)) and ARMA(p,q) Models\", SMU, 2019"
   ]
  }
 ],
 "metadata": {
  "kernelspec": {
   "display_name": "Python 3",
   "language": "python",
   "name": "python3"
  },
  "language_info": {
   "codemirror_mode": {
    "name": "ipython",
    "version": 3
   },
   "file_extension": ".py",
   "mimetype": "text/x-python",
   "name": "python",
   "nbconvert_exporter": "python",
   "pygments_lexer": "ipython3",
   "version": "3.6.9"
  }
 },
 "nbformat": 4,
 "nbformat_minor": 2
}
