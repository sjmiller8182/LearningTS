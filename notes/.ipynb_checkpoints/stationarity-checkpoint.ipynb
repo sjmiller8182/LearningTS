{
 "cells": [
  {
   "cell_type": "markdown",
   "metadata": {},
   "source": [
    "# Stationarity\n",
    "\n",
    "There are three conditions for a time series to be stationary.\n",
    "\n",
    "* Constant Mean\n",
    "* Constant Variance\n",
    "* Constant Autocorrelation\n",
    "\n",
    "## Constant Mean\n",
    "\n",
    "All subpopulations of $X_t$ have the same mean for each time $t$ \n",
    "i.e. the mean does not depend on time.\n",
    "\n",
    "$$\n",
    "E[X_t] = \\mu\n",
    "$$\n",
    "\n",
    "## Constant Variance\n",
    "\n",
    "Variance of $X_t$ does not depend on time and the variance is finite.\n",
    "\n",
    "$$\n",
    "Var[X_t] = \\sigma^2 < \\infty\n",
    "$$\n",
    "\n",
    "## Constant Autocorrelation\n",
    "\n",
    "The correlation of $X_2$ and $X_1$ only depends on $t_2-t_1$.\n",
    "That is, the correlation between the data points depends only on how far a part the obervations are in time,\n",
    "not where the observations are located in time.\n",
    "\n",
    "$$\n",
    "Corr(X_t, X_{t+h}) = \\rho_h\n",
    "$$\n",
    "\n",
    "where $h$ is the difference between two points in time.\n",
    "\n",
    "## References\n",
    "\n",
    "\\[1\\] B. Salder, \"Stationary\", SMU, 2019"
   ]
  }
 ],
 "metadata": {
  "kernelspec": {
   "display_name": "Python 3",
   "language": "python",
   "name": "python3"
  },
  "language_info": {
   "codemirror_mode": {
    "name": "ipython",
    "version": 3
   },
   "file_extension": ".py",
   "mimetype": "text/x-python",
   "name": "python",
   "nbconvert_exporter": "python",
   "pygments_lexer": "ipython3",
   "version": "3.6.9"
  }
 },
 "nbformat": 4,
 "nbformat_minor": 2
}
