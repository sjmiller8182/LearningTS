{
 "cells": [
  {
   "cell_type": "markdown",
   "metadata": {},
   "source": [
    "# Glossary\n",
    "\n",
    "## Notation\n",
    "\n",
    "* $X_t$ - the response variable.\n",
    "* $x_t$ - the value of $X_t$ at a particular time $t$.\n",
    "* $\\mu_t$ - the mean of all possible realizations of $X_t$ for a given $t$.\n",
    "* $\\sigma_t$ - the varaince of all possible realizations of $X_t$ for a given $t$.\n",
    "* $\\gamma_k$ - the autocovariance of $X_t$ for lag of $k$.\n",
    "* $\\rho_k$ - the autocorrelation of $X_t$ for lag of $k$\n",
    "* $S_x(f)$ - sample spectral desnsity\n",
    "\n",
    "## Terms\n",
    "\n",
    "* **Ensemble**: The totality of all possible realizations of a time series.\n",
    "* **Realization**: The observed time series. The may be many or only one.\n",
    "* **Niquist frequency**: The highest observable frequency of a signal, which is half of the samlping frequency - $\\frac{f_{sample}}{2}$\n",
    "* **Alaising**: A signal above the Niquist frequency that appears as a low frequency signal.\n",
    "\n",
    "## References\n",
    "\n",
    "* \\[1\\] B. Salder, \"Stationary\", SMU, 2019\n",
    "* \\[2\\] B. Salder, \"Frequency Domain\", SMU, 2019"
   ]
  }
 ],
 "metadata": {
  "kernelspec": {
   "display_name": "Python 3",
   "language": "python",
   "name": "python3"
  },
  "language_info": {
   "codemirror_mode": {
    "name": "ipython",
    "version": 3
   },
   "file_extension": ".py",
   "mimetype": "text/x-python",
   "name": "python",
   "nbconvert_exporter": "python",
   "pygments_lexer": "ipython3",
   "version": "3.6.9"
  }
 },
 "nbformat": 4,
 "nbformat_minor": 2
}
