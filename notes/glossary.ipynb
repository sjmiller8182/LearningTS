{
 "cells": [
  {
   "cell_type": "markdown",
   "metadata": {},
   "source": [
    "# Glossary\n",
    "\n",
    "Notation and terms used in time series analysis.\n",
    "\n",
    "--------------\n",
    "\n",
    "## Notation\n",
    "\n",
    "--------------\n",
    "\n",
    "* $X_t$ - the response variable.\n",
    "* $x_t$ - the value of $X_t$ at a particular time $t$.\n",
    "* $\\mu_t$ - the mean of all possible realizations of $X_t$ for a given $t$.\n",
    "* $\\sigma_t$ - the varaince of all possible realizations of $X_t$ for a given $t$.\n",
    "* $\\gamma_k$ - the autocovariance of $X_t$ for lag of $k$.\n",
    "* $\\rho_k$ - the autocorrelation of $X_t$ for lag of $k$.\n",
    "* $f$ - frequency of a signal periodic signal.\n",
    "* $\\omega$ - angular frequency of a periodic signal.\n",
    "* $\\phi$ - phase shift of a periodic signal.\n",
    "* $S_x(f)$ - sample spectral desnsity.\n",
    "\n",
    "## Terms\n",
    "\n",
    "--------------\n",
    "\n",
    "* **Alaising**: A signal above the Niquist frequency that appears as a low frequency signal.\n",
    "* **Ensemble**: The totality of all possible realizations of a time series.\n",
    "* **Frequency**: The *number of cycles per unit time*.\n",
    "* **Niquist frequency**: The highest observable frequency of a signal, which is half of the samlping frequency - $\\frac{f_{sample}}{2}$\n",
    "* **Period**: The *amout of time for one cycle to complete*.\n",
    "* **Psuedo-periodic Series** having a *similar* shape that repeats in a consistent cycle.\n",
    "* **Realization**: The observed time series. The may be many or only one.\n",
    "* **Spectral Density**: The frequency components (in the frequency domain) that exist in a time series; the frequency transfrom of a time series.\n",
    "* **Sample Spectral Density**: An estimate of the **Spectral Density** based on periodically sampled data.\n",
    "\n",
    "\n",
    "\n",
    "## References\n",
    "\n",
    "--------------\n",
    "\n",
    "* \\[1\\] B. Salder, \"Stationary\", SMU, 2019\n",
    "* \\[2\\] B. Salder, \"Frequency Domain\", SMU, 2019"
   ]
  }
 ],
 "metadata": {
  "kernelspec": {
   "display_name": "Python 3",
   "language": "python",
   "name": "python3"
  },
  "language_info": {
   "codemirror_mode": {
    "name": "ipython",
    "version": 3
   },
   "file_extension": ".py",
   "mimetype": "text/x-python",
   "name": "python",
   "nbconvert_exporter": "python",
   "pygments_lexer": "ipython3",
   "version": "3.6.9"
  }
 },
 "nbformat": 4,
 "nbformat_minor": 2
}
