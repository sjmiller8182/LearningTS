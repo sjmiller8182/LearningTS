{
 "cells": [
  {
   "cell_type": "markdown",
   "metadata": {},
   "source": [
    "# **Moving Average (MA) Models**\n",
    "\n",
    "----------------\n",
    "\n",
    "Moving average models are expressed as depended of lagged white noise ($a_t$) values.\n",
    "\n",
    "$$\n",
    "X_t = \\mu + a_t - \\theta_1 a_{t-1} - \\theta_2 a_{t-2} - ... - \\theta_q a_{t-q}\n",
    "$$\n",
    "\n",
    "The operator form (zero-mean) is\n",
    "\n",
    "$$\n",
    "X_t = \\left( 1- \\theta_1 B - ... - \\theta_{q} B^q \\right) a_t\n",
    "$$\n",
    "\n",
    "Which provides the characteristic\n",
    "\n",
    "$$\n",
    "1- \\theta_1 z - ... - \\theta_{q} z^q = 0\n",
    "$$"
   ]
  },
  {
   "cell_type": "markdown",
   "metadata": {},
   "source": [
    "## **Properties**\n",
    "\n",
    "----------------\n",
    "\n",
    "* An MA(q) is a finite GLP that is always stationary\n",
    "* $E[X_t] = \\mu$\n",
    "* $\\rho_0 = 1$\n",
    "* $\\rho_k = 0$ for $k > q$\n",
    "\n",
    "### **MA(1) Autocorrelations**\n",
    "\n",
    "The autocorrelations for MA(1) are as follows\n",
    "\n",
    "$$\n",
    "\\rho_1 = \\frac{-\\theta_1}{1 + \\theta_1^2}\n",
    "$$\n",
    "\n",
    "$$\n",
    "\\rho_k = 0 |_{k > 1}\n",
    "$$\n",
    "\n",
    "**Note**: The max absolute value of $\\rho_1 = 0.5$ for MA(1).\n",
    "\n",
    "### **MA(2) Autocorrelations**\n",
    "\n",
    "The autocorrelations for MA(2) are as follows\n",
    "\n",
    "$$\n",
    "\\rho_1 = \\frac{-\\theta_1 + \\theta_1 \\theta_2}{1 + \\theta_1^2 + \\theta_2^2}\n",
    "$$\n",
    "\n",
    "$$\n",
    "\\rho_1 = \\frac{-\\theta_2}{1 + \\theta_1^2 + \\theta_2^2}\n",
    "$$\n",
    "\n",
    "$$\n",
    "\\rho_k = 0 |_{k > 2}\n",
    "$$"
   ]
  },
  {
   "cell_type": "markdown",
   "metadata": {},
   "source": [
    "## **Invertability**\n",
    "\n",
    "-------------\n",
    "\n",
    "Due to model multiplicity in MA models, MA models are restricted to have all roots outside the unit circle.\n",
    "This is to make models identifible i.e. a singlar mapping between parameters and models.\n",
    "\n",
    "[More details](https://stats.stackexchange.com/questions/333802/why-do-we-care-if-an-ma-process-is-invertible)"
   ]
  },
  {
   "cell_type": "markdown",
   "metadata": {},
   "source": [
    "## **References**\n",
    "\n",
    "----------------\n",
    "\n",
    "* \\[1\\] B. Salder, \"Moving Average (MA(q)) and ARMA(p,q) Models\", SMU, 2019"
   ]
  }
 ],
 "metadata": {
  "kernelspec": {
   "display_name": "Python 3",
   "language": "python",
   "name": "python3"
  },
  "language_info": {
   "codemirror_mode": {
    "name": "ipython",
    "version": 3
   },
   "file_extension": ".py",
   "mimetype": "text/x-python",
   "name": "python",
   "nbconvert_exporter": "python",
   "pygments_lexer": "ipython3",
   "version": "3.6.9"
  }
 },
 "nbformat": 4,
 "nbformat_minor": 2
}
